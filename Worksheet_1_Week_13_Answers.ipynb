{
  "nbformat": 4,
  "nbformat_minor": 0,
  "metadata": {
    "kernelspec": {
      "display_name": "Python 3",
      "language": "python",
      "name": "python3"
    },
    "language_info": {
      "codemirror_mode": {
        "name": "ipython",
        "version": 3
      },
      "file_extension": ".py",
      "mimetype": "text/x-python",
      "name": "python",
      "nbconvert_exporter": "python",
      "pygments_lexer": "ipython3",
      "version": "3.9.1"
    },
    "colab": {
      "name": "Worksheet 1 Week 13 Answers.ipynb",
      "provenance": [],
      "include_colab_link": true
    }
  },
  "cells": [
    {
      "cell_type": "markdown",
      "metadata": {
        "id": "view-in-github",
        "colab_type": "text"
      },
      "source": [
        "<a href=\"https://colab.research.google.com/github/hou2fool/CS-Books/blob/master/Worksheet_1_Week_13_Answers.ipynb\" target=\"_parent\"><img src=\"https://colab.research.google.com/assets/colab-badge.svg\" alt=\"Open In Colab\"/></a>"
      ]
    },
    {
      "cell_type": "markdown",
      "metadata": {
        "id": "T6gsVtxmIK8m"
      },
      "source": [
        "# Introduction\n",
        "This worksheet covers material from week 13. You will write functions to implement evaluation metrics for classification and regression problems. You will:\n",
        " - Use library functions from scikit-learn (https://scikit-learn.org/stable/)\n",
        " - Use NumPy and matplotlib\n",
        " - Write and call functions in Python\n",
        " - Gain understanding of the evaluation metrics used.\n",
        "\n",
        "\n",
        "Scikit-learn (https://scikit-learn.org/stable/) is a Python library with a wide range of ML algorithms. We will be using some of these algorithms during this course, but we will also be looking at the principles behind the algorithms in order to understand these rather than simply applying functions from libraries.\n",
        "\n",
        "## If you don't know Python, NumPy, matplotlib\n",
        "Please work through the Introduction to Python worksheet available on Blackboard"
      ]
    },
    {
      "cell_type": "markdown",
      "metadata": {
        "id": "WnluHThiIK8o"
      },
      "source": [
        "# 0. Preliminaries\n",
        "We firstly import NumPy and matplotlib as we will be using these throughout the worksheet. We use a 'magic' function `%matplotlib inline` to display plots in the worksheet."
      ]
    },
    {
      "cell_type": "code",
      "metadata": {
        "id": "VnArK3voIK8o"
      },
      "source": [
        "import numpy as np\n",
        "import matplotlib.pyplot as plt\n",
        "%matplotlib inline"
      ],
      "execution_count": 69,
      "outputs": []
    },
    {
      "cell_type": "markdown",
      "metadata": {
        "id": "NXKYf-v8IK8p"
      },
      "source": [
        "# 1. Classification\n",
        "In this question you will use a toy dataset from scikit-learn. You will use functions from scikit-learn to load the data, divide it into training and testing sets, and then fit a simple classifier to the training set. You will then write functions to calculate accuracy, precision, and recall. Finally, you will check your functions against the functions from scikit-learn.\n",
        "\n",
        "## Part a) Load the data"
      ]
    },
    {
      "cell_type": "code",
      "metadata": {
        "id": "qce4-o_KIK8p"
      },
      "source": [
        "# scikit-learn comes with a number of toy datasets (https://sklearn.org/datasets/index.html#toy-datasets)\n",
        "from sklearn import datasets\n",
        "\n",
        "# Load the wine dataset from sklearn. You may want to take a look at the format of the dataset\n",
        "wine = datasets.load_wine()\n",
        "\n",
        "# Save the datapoints into the variable X and the targets into the variable y\n",
        "X = wine.data\n",
        "y = wine.target"
      ],
      "execution_count": 70,
      "outputs": []
    },
    {
      "cell_type": "markdown",
      "metadata": {
        "id": "Rt5emiJKIK8q"
      },
      "source": [
        "Take a look at the target values in y. What do you notice about these? Why are these suitable for a classification algorithm rather than a regression algorithm?"
      ]
    },
    {
      "cell_type": "code",
      "metadata": {
        "colab": {
          "base_uri": "https://localhost:8080/"
        },
        "id": "wI6D-B9pIK8q",
        "outputId": "fee33393-45c2-491d-d537-1b8a5ea261e7"
      },
      "source": [
        "#  Look at the values in y\n",
        "y"
      ],
      "execution_count": 71,
      "outputs": [
        {
          "output_type": "execute_result",
          "data": {
            "text/plain": [
              "array([0, 0, 0, 0, 0, 0, 0, 0, 0, 0, 0, 0, 0, 0, 0, 0, 0, 0, 0, 0, 0, 0,\n",
              "       0, 0, 0, 0, 0, 0, 0, 0, 0, 0, 0, 0, 0, 0, 0, 0, 0, 0, 0, 0, 0, 0,\n",
              "       0, 0, 0, 0, 0, 0, 0, 0, 0, 0, 0, 0, 0, 0, 0, 1, 1, 1, 1, 1, 1, 1,\n",
              "       1, 1, 1, 1, 1, 1, 1, 1, 1, 1, 1, 1, 1, 1, 1, 1, 1, 1, 1, 1, 1, 1,\n",
              "       1, 1, 1, 1, 1, 1, 1, 1, 1, 1, 1, 1, 1, 1, 1, 1, 1, 1, 1, 1, 1, 1,\n",
              "       1, 1, 1, 1, 1, 1, 1, 1, 1, 1, 1, 1, 1, 1, 1, 1, 1, 1, 1, 1, 2, 2,\n",
              "       2, 2, 2, 2, 2, 2, 2, 2, 2, 2, 2, 2, 2, 2, 2, 2, 2, 2, 2, 2, 2, 2,\n",
              "       2, 2, 2, 2, 2, 2, 2, 2, 2, 2, 2, 2, 2, 2, 2, 2, 2, 2, 2, 2, 2, 2,\n",
              "       2, 2])"
            ]
          },
          "metadata": {
            "tags": []
          },
          "execution_count": 71
        }
      ]
    },
    {
      "cell_type": "markdown",
      "metadata": {
        "id": "JTThcQZpIK8q"
      },
      "source": [
        "## Part b) Divide the data into training and testing sets\n",
        "Use the function `train_test_split` from `sklearn.model_selection` to split out the data and targets into training and testing sets."
      ]
    },
    {
      "cell_type": "code",
      "metadata": {
        "id": "qHut703CIK8q"
      },
      "source": [
        "# We import the function train_test_split from sklearn and use this to split the data\n",
        "from sklearn.model_selection import train_test_split\n",
        "\n",
        "# The function returns splits of each array passed in. \n",
        "# The proportion to be used as the training set is given by test_size\n",
        "X_train, X_test, y_train, y_test = train_test_split(X, y, test_size=0.2)"
      ],
      "execution_count": 72,
      "outputs": []
    },
    {
      "cell_type": "markdown",
      "metadata": {
        "id": "wtgRdJ7wIK8r"
      },
      "source": [
        "## Part c) Import the k-nearest neighbours classifier and run it on the data\n",
        "Scikit-learn has a huge range of *estimators* that you can use with your dataset. An estimator is any procedure that can be used to fit data and make predictions from it. Here we will import the k-nearest neighbours classifier, instantiate it, run it on our training set, and then use it to generate some predictions. You will learn more about k-nearest neighbours in Week 14. For now, we are simply using it to generate some predictions.\n",
        "\n",
        "The general procedure for using the estimators in scikit-learn is as follows. Every estimator has a method `fit(X, y)` and a method `predict(T)`. \n",
        "\n",
        "1) Import the estimator\n",
        "    e.g. `from sklearn.models import Classifier`\n",
        "    \n",
        "2) Instantiate the estimator to a variable\n",
        "    e.g. `est = Classifier(params)`\n",
        "    \n",
        "3) Fit the estimator to the data\n",
        "    e.g. `est.fit(X, y)`\n",
        "    \n",
        "4) Make a prediction\n",
        "    e.g. `predictions = est.predict(test_data)`\n",
        "    \n",
        "You can see an example of this in the code below:"
      ]
    },
    {
      "cell_type": "code",
      "metadata": {
        "scrolled": true,
        "id": "WUlY-jFxIK8r"
      },
      "source": [
        "# We first import the classifier\n",
        "from sklearn.neighbors import KNeighborsClassifier\n",
        "\n",
        "# We instantiate the classifier with 5 neighbours\n",
        "knn = KNeighborsClassifier(n_neighbors=5)\n",
        "\n",
        "# We fit the model using our training data\n",
        "knn.fit(X_train, y_train)\n",
        "\n",
        "# Finally, we generate predictions on the test data\n",
        "ypred_test=knn.predict(X_test)"
      ],
      "execution_count": 73,
      "outputs": []
    },
    {
      "cell_type": "markdown",
      "metadata": {
        "id": "zY_Y8IgkIK8r"
      },
      "source": [
        "## Part d) Evaluating the classifier\n",
        "In this section we will implement functions for accuracy, precision and recall, and compare them with the functions given in sklearn (they should give the same results!)\n",
        "\n",
        "The wine dataset has 3 classes. We will write functions to compute the accuracy of the classifer, the macro-averaged precision and the macro-averaged recall.\n",
        "\n",
        "Recall the equations for accuracy, precision, and recall:\n",
        "\n",
        "$$Accuracy = \\frac{\\sum_{i = 1}^n 1(y_i = f(x_i))}{n}$$\n",
        "i.e. the number of correctly classified datapoints as a proportion of all $n$ datapoints\n",
        "\n",
        "$$Precision_c = \\frac{TP_c}{TP_c+FP_c}$$\n",
        "i.e. the precision for class $c$ is the number of true positives for class $c$ as a proportion of the total number of positive predictions for class $c$\n",
        "\n",
        "$$Recall_c = \\frac{TP_c}{TP_c+FN_c}$$\n",
        "i.e. the recall for class $c$ is the number of true positives for class $c$ as a proportion of the total number of actual positives for class $c$\n",
        "\n",
        "The macro-averaged precision and macro-averaged recall are then simply calculated by averaging the precision (or recall) for each class:\n",
        "\n",
        "$$Precision = \\frac{1}{k} \\sum_{i = 1}^k Precision_k, \\quad Recall = \\frac{1}{k} \\sum_{i = 1}^k Recall_k$$\n",
        "\n",
        "We can automatically generate the confusion matrix for our data using the function `confusion_matrix` from `sklearn.metrics`"
      ]
    },
    {
      "cell_type": "code",
      "metadata": {
        "id": "Rq7yHnycIK8s"
      },
      "source": [
        "# Import the function confusion_matrix\n",
        "from sklearn.metrics import confusion_matrix\n",
        "\n",
        "#Build the confusion matrix from the target test set y_test and our predicted values ypred_test\n",
        "cm = confusion_matrix(y_test, ypred_test)"
      ],
      "execution_count": 74,
      "outputs": []
    },
    {
      "cell_type": "markdown",
      "metadata": {
        "id": "xrJa8qqaIK8s"
      },
      "source": [
        "Take a look at the confusion matrix. What should its dimensions be? "
      ]
    },
    {
      "cell_type": "code",
      "metadata": {
        "colab": {
          "base_uri": "https://localhost:8080/"
        },
        "id": "Xs7z0wouIK8t",
        "outputId": "f1f8d85f-6c54-4137-8157-46e5a6dbc66e"
      },
      "source": [
        "# Look at the confusion matrix cm\r\n",
        "cm"
      ],
      "execution_count": 75,
      "outputs": [
        {
          "output_type": "execute_result",
          "data": {
            "text/plain": [
              "array([[12,  0,  2],\n",
              "       [ 3,  4,  5],\n",
              "       [ 1,  3,  6]])"
            ]
          },
          "metadata": {
            "tags": []
          },
          "execution_count": 75
        }
      ]
    },
    {
      "cell_type": "markdown",
      "metadata": {
        "id": "UcGMHDuQIK8t"
      },
      "source": [
        "Write a function `my_accuracy` that takes in two arrays `y` for target values and `pred` for predicted  values, and returns accuracy."
      ]
    },
    {
      "cell_type": "code",
      "metadata": {
        "id": "YL8nojY2IK8t"
      },
      "source": [
        "def my_accuracy(y, pred):\n",
        "    acc=0\n",
        "    # Write your answer here\n",
        "    cm = confusion_matrix(y, pred)\n",
        "    acc = np.diag(cm).sum()/cm.sum()\n",
        "    return acc"
      ],
      "execution_count": 76,
      "outputs": []
    },
    {
      "cell_type": "markdown",
      "metadata": {
        "id": "6RC8gA6iIK8t"
      },
      "source": [
        "Write a function `my_recall_macro` that takes in two arrays `y` for target values and `pred` for predicted  values, and returns recall. "
      ]
    },
    {
      "cell_type": "code",
      "metadata": {
        "id": "PdaAvdjdIK8u"
      },
      "source": [
        "def my_recall_macro(y, pred):\n",
        "    recalls = []\n",
        "    cm = confusion_matrix(y, pred)\n",
        "    # Write your answer here\n",
        "    for i, row in enumerate(cm):\n",
        "        recall_i = row[i]/row.sum()\n",
        "        recalls.append(recall_i)\n",
        "    return np.mean(recalls)      "
      ],
      "execution_count": 77,
      "outputs": []
    },
    {
      "cell_type": "markdown",
      "metadata": {
        "id": "R3Kg0PO-IK8u"
      },
      "source": [
        "Write a function `my_precision_macro` that takes in two arrays `y` for target values and `pred` for predicted  values, and returns precision. "
      ]
    },
    {
      "cell_type": "code",
      "metadata": {
        "id": "EuAIUU0dIK8u"
      },
      "source": [
        "def my_precision_macro(y, pred):\n",
        "    # Write your answer here\n",
        "    precs = []\n",
        "    cm = confusion_matrix(y, pred)\n",
        "    for i, col in enumerate(cm.T):\n",
        "        prec_i = col[i]/col.sum()\n",
        "        precs.append(prec_i)\n",
        "    return np.mean(precs)"
      ],
      "execution_count": 78,
      "outputs": []
    },
    {
      "cell_type": "markdown",
      "metadata": {
        "id": "puZ6nLG6IK8u"
      },
      "source": [
        "Check that your functions match those in sklearn."
      ]
    },
    {
      "cell_type": "code",
      "metadata": {
        "colab": {
          "base_uri": "https://localhost:8080/"
        },
        "id": "knjMgx8sIK8v",
        "outputId": "1423f9cb-7377-4d36-c1ae-af51562988b7"
      },
      "source": [
        "from sklearn.metrics import precision_score, recall_score, accuracy_score\n",
        "my_accuracy(y_test, ypred_test) == accuracy_score(y_test, ypred_test)"
      ],
      "execution_count": 79,
      "outputs": [
        {
          "output_type": "execute_result",
          "data": {
            "text/plain": [
              "True"
            ]
          },
          "metadata": {
            "tags": []
          },
          "execution_count": 79
        }
      ]
    },
    {
      "cell_type": "code",
      "metadata": {
        "colab": {
          "base_uri": "https://localhost:8080/"
        },
        "id": "rJm4z8I6IK8v",
        "outputId": "bff475f5-b22f-4d7a-d3ad-e6937f20d03f"
      },
      "source": [
        "my_recall_macro(y_test, ypred_test)==recall_score(y_test, ypred_test, average='macro')"
      ],
      "execution_count": 80,
      "outputs": [
        {
          "output_type": "execute_result",
          "data": {
            "text/plain": [
              "True"
            ]
          },
          "metadata": {
            "tags": []
          },
          "execution_count": 80
        }
      ]
    },
    {
      "cell_type": "code",
      "metadata": {
        "colab": {
          "base_uri": "https://localhost:8080/"
        },
        "id": "O011X6DvIK8v",
        "outputId": "2549966f-fa6d-4d57-d027-15cc36fe4ddc"
      },
      "source": [
        "my_precision_macro(y_test, ypred_test)==precision_score(y_test, ypred_test, average='macro')\n"
      ],
      "execution_count": 81,
      "outputs": [
        {
          "output_type": "execute_result",
          "data": {
            "text/plain": [
              "True"
            ]
          },
          "metadata": {
            "tags": []
          },
          "execution_count": 81
        }
      ]
    },
    {
      "cell_type": "markdown",
      "metadata": {
        "id": "SJIln-aLIK8w"
      },
      "source": [
        "# 2. Regression\n",
        "\n",
        "In this question we will use sklearn to fit a linear model to some artificial data. You will then implement a function to calculate the mean squared error and a function to calculate $r^2$.\n",
        "\n",
        "## Part a) Create an artificial dataset\n",
        "We start off by creating some artificial data.    "
      ]
    },
    {
      "cell_type": "code",
      "metadata": {
        "id": "pus0NETEIK8w"
      },
      "source": [
        "# We set up a random number generator (rng), seeded with a number (in this case 10). \n",
        "# Using a seed means we can generate the same sequence of pseudorandom numbers, and so we can check results easily.\n",
        "rng = np.random.default_rng(10) \n",
        "\n",
        "# a and b are coefficients for the line\n",
        "a = 2\n",
        "b = -1\n",
        "\n",
        "# Use np.linspace to generate datapoints from 0 to 10 (inclusive) spaced at 0.1\n",
        "X = np.linspace(0, 10, 101) \n",
        "\n",
        "# Create data Y using the equation for a line\n",
        "Y = a*X + b\n",
        "\n",
        "# Adds Gaussian noise with mean 0 and standard deviation 3 to the data\n",
        "Y = Y + 3*rng.standard_normal(len(Y)) "
      ],
      "execution_count": 82,
      "outputs": []
    },
    {
      "cell_type": "markdown",
      "metadata": {
        "id": "Nml5Ag_NIK8w"
      },
      "source": [
        "## Part b) Plot the data on named axes"
      ]
    },
    {
      "cell_type": "code",
      "metadata": {
        "colab": {
          "base_uri": "https://localhost:8080/",
          "height": 299
        },
        "id": "ilYW5QHyIK8w",
        "outputId": "cada90fd-721b-4bb0-b18e-51efaa2f0157"
      },
      "source": [
        "fig, ax = plt.subplots() # This generates us a named figure and axes\n",
        "ax.scatter(X, Y, label = 'Data') # We generate a scatterplot of the data on the axes.\n",
        "plt.xlabel('x')\n",
        "plt.ylabel('y')"
      ],
      "execution_count": 83,
      "outputs": [
        {
          "output_type": "execute_result",
          "data": {
            "text/plain": [
              "Text(0, 0.5, 'y')"
            ]
          },
          "metadata": {
            "tags": []
          },
          "execution_count": 83
        },
        {
          "output_type": "display_data",
          "data": {
            "image/png": "[encoded data removed]",
            "text/plain": [
              "<Figure size 432x288 with 1 Axes>"
            ]
          },
          "metadata": {
            "tags": [],
            "needs_background": "light"
          }
        }
      ]
    },
    {
      "cell_type": "markdown",
      "metadata": {
        "id": "rTgdemNRIK8w"
      },
      "source": [
        "## Part c) Split the data into training and testing sets\n",
        "Split the data X and targets Y into training and testing sets using the function `train_test_split`. Set the proportion of the dataset to use as test data to 0.1."
      ]
    },
    {
      "cell_type": "code",
      "metadata": {
        "id": "3cH5eOtbIK8x"
      },
      "source": [
        "# Write your answer here\n",
        "Xtrain, Xtest, ytrain, ytest = train_test_split(X, Y, test_size=0.1)"
      ],
      "execution_count": 84,
      "outputs": []
    },
    {
      "cell_type": "markdown",
      "metadata": {
        "id": "X1s79gqjIK8x"
      },
      "source": [
        "## Part d) Instantiate and fit the estimator\n",
        "Import the estimator `LinearRegression` from `sklearn.linear_model` and instantiate it. No parameters are needed."
      ]
    },
    {
      "cell_type": "code",
      "metadata": {
        "id": "ipWpfljrIK8x"
      },
      "source": [
        "from sklearn.linear_model import LinearRegression\n",
        "regr = LinearRegression()"
      ],
      "execution_count": 85,
      "outputs": []
    },
    {
      "cell_type": "markdown",
      "metadata": {
        "id": "hZLNdc0vIK8x"
      },
      "source": [
        "You will need to reshape the data (but not the targets) before passing it to this model. "
      ]
    },
    {
      "cell_type": "code",
      "metadata": {
        "id": "ERkpJ29FIK8y"
      },
      "source": [
        "# This reshapes the data to have 1 column and however many rows make sense for the data\n",
        "Xtrain = Xtrain.reshape(-1, 1)"
      ],
      "execution_count": 86,
      "outputs": []
    },
    {
      "cell_type": "markdown",
      "metadata": {
        "id": "W4An1TyFIK8y"
      },
      "source": [
        "Call the method `fit` with your training data to train the model"
      ]
    },
    {
      "cell_type": "code",
      "metadata": {
        "colab": {
          "base_uri": "https://localhost:8080/"
        },
        "id": "o_Yi1KSGIK8y",
        "outputId": "84c14e46-647d-4438-a44b-f066b60b3b00"
      },
      "source": [
        "# Write your answer here\n",
        "regr.fit(Xtrain, ytrain)"
      ],
      "execution_count": 87,
      "outputs": [
        {
          "output_type": "execute_result",
          "data": {
            "text/plain": [
              "LinearRegression(copy_X=True, fit_intercept=True, n_jobs=None, normalize=False)"
            ]
          },
          "metadata": {
            "tags": []
          },
          "execution_count": 87
        }
      ]
    },
    {
      "cell_type": "markdown",
      "metadata": {
        "id": "C4_ukH9QIK8y"
      },
      "source": [
        "The coefficient(s) and intercept for the trained model are called `coef_` and `intercept_`. Are these what you would expect? Are they similar to the values of `a` and `b` that we used to generate the data?"
      ]
    },
    {
      "cell_type": "code",
      "metadata": {
        "colab": {
          "base_uri": "https://localhost:8080/"
        },
        "id": "4-Uo7Gg4IK8y",
        "outputId": "8b1fca38-7323-4b24-cb45-a0512cc05af4"
      },
      "source": [
        "regr.coef_"
      ],
      "execution_count": 88,
      "outputs": [
        {
          "output_type": "execute_result",
          "data": {
            "text/plain": [
              "array([2.13999445])"
            ]
          },
          "metadata": {
            "tags": []
          },
          "execution_count": 88
        }
      ]
    },
    {
      "cell_type": "code",
      "metadata": {
        "colab": {
          "base_uri": "https://localhost:8080/"
        },
        "id": "MMdwKOxKIK8z",
        "outputId": "98ed1de6-e4e5-4284-a406-52da464e1c9e"
      },
      "source": [
        "regr.intercept_"
      ],
      "execution_count": 89,
      "outputs": [
        {
          "output_type": "execute_result",
          "data": {
            "text/plain": [
              "-2.228371154771512"
            ]
          },
          "metadata": {
            "tags": []
          },
          "execution_count": 89
        }
      ]
    },
    {
      "cell_type": "markdown",
      "metadata": {
        "id": "h9CFvJRTIK8z"
      },
      "source": [
        "Using the values stored in `coef_` and `intercept_`, plot a line representing the fitted model on the same axes (`ax`) as before. Type `fig` to view the plot."
      ]
    },
    {
      "cell_type": "code",
      "metadata": {
        "colab": {
          "base_uri": "https://localhost:8080/",
          "height": 282
        },
        "id": "JkudjiLsIK8z",
        "outputId": "cd769b25-86d1-4619-a242-867c2618ac24"
      },
      "source": [
        "# Write your answer here \n",
        "x = np.array([0, 10])\n",
        "ax.plot(x, regr.coef_[0]*x + regr.intercept_, 'g', label='Fitted model')\n",
        "fig"
      ],
      "execution_count": 90,
      "outputs": [
        {
          "output_type": "execute_result",
          "data": {
            "image/png": "[encoded data removed]",
            "text/plain": [
              "<Figure size 432x288 with 1 Axes>"
            ]
          },
          "metadata": {
            "tags": []
          },
          "execution_count": 90
        }
      ]
    },
    {
      "cell_type": "markdown",
      "metadata": {
        "id": "xAraZvMrIK8z"
      },
      "source": [
        "Reshape the test data to have one column and then call `predict` on the regression model to get the predicted y values"
      ]
    },
    {
      "cell_type": "code",
      "metadata": {
        "id": "pu-p4K09IK80"
      },
      "source": [
        "Xtest = Xtest.reshape(-1, 1)\n",
        "ypred = regr.predict(Xtest)"
      ],
      "execution_count": 91,
      "outputs": []
    },
    {
      "cell_type": "markdown",
      "metadata": {
        "id": "Uk2BUCQOIK80"
      },
      "source": [
        "## Part e) Calculating mean squared error\n",
        "The equation for the mean squared error is \n",
        "$$ MSE = \\frac{\\sum_{i = 1}^n (y_i - f(x_i))^2}{n} $$\n",
        "Write a function that takes in arrays for the target values `y` and the predicted values `pred` and returns the mean squared error."
      ]
    },
    {
      "cell_type": "code",
      "metadata": {
        "id": "Qhe0UQ_lIK80"
      },
      "source": [
        "def MSE(y, pred):\n",
        "    diffs = y - pred\n",
        "    sse = (diffs**2).sum()\n",
        "    mse = sse/len(diffs)\n",
        "    return mse"
      ],
      "execution_count": 92,
      "outputs": []
    },
    {
      "cell_type": "markdown",
      "metadata": {
        "id": "VLqDTHMxIK80"
      },
      "source": [
        "Check your function against the function `mean_squared_error` from `sklearn.metrics`"
      ]
    },
    {
      "cell_type": "code",
      "metadata": {
        "colab": {
          "base_uri": "https://localhost:8080/"
        },
        "id": "gUDwAcawIK80",
        "outputId": "f32c4d4e-4f6f-4f4f-bee3-47e61ff43bd6"
      },
      "source": [
        "from sklearn.metrics import mean_squared_error\n",
        "MSE(ytest, ypred) == mean_squared_error(ytest, ypred)"
      ],
      "execution_count": 93,
      "outputs": [
        {
          "output_type": "execute_result",
          "data": {
            "text/plain": [
              "True"
            ]
          },
          "metadata": {
            "tags": []
          },
          "execution_count": 93
        }
      ]
    },
    {
      "cell_type": "markdown",
      "metadata": {
        "id": "_vJOdQeFIK81"
      },
      "source": [
        "## Part f) Calculating R^2\n",
        "Recall from the lecture that $R^2$ is defined as\n",
        "\n",
        "$$R^2(y, \\hat{y})) = 1 - \\frac{\\sum_{i=1}^{n} (y_i - \\hat{y}_i)^2}{\\sum_{i=1}^{n} (y_i - \\bar{y})^2}$$\n",
        "\n",
        "This represents the proportion of the variance of y that is explained by the independent variables in the model. It is essentially a comparison of the fitted model with the mean of the target values ($\\bar{y}$). Implement your own function to calculate $R^2$ and then compare it with `r2_score` from `sklearn.metrics`"
      ]
    },
    {
      "cell_type": "code",
      "metadata": {
        "id": "Z_qSi29TIK81"
      },
      "source": [
        "def rsq(y, pred):\n",
        "    sse = ((y-pred)**2).sum()\n",
        "    m = ((y - np.mean(y))**2).sum()\n",
        "    return 1 - sse/m"
      ],
      "execution_count": 94,
      "outputs": []
    },
    {
      "cell_type": "code",
      "metadata": {
        "colab": {
          "base_uri": "https://localhost:8080/"
        },
        "id": "DKnNCnb1IK81",
        "outputId": "2e155044-1623-4ab4-ccfc-ed78c5e85947"
      },
      "source": [
        "from sklearn.metrics import r2_score\n",
        "rsq(ytest, ypred) == r2_score(ytest, ypred)"
      ],
      "execution_count": 95,
      "outputs": [
        {
          "output_type": "execute_result",
          "data": {
            "text/plain": [
              "True"
            ]
          },
          "metadata": {
            "tags": []
          },
          "execution_count": 95
        }
      ]
    },
    {
      "cell_type": "markdown",
      "metadata": {
        "id": "nG3QaGN0IK81"
      },
      "source": [
        "# 3. Using cross-validation for model selection\n",
        "\n",
        "In this section we will fit a series of classifiers with different parameter settings, and use k-fold cross validation to select the most appropriate parameter values. We will use a *decision tree* classifier. We will cover this classifier in more detail in future lectures. For now, all you need to know is that a decision tree has a parameter `max_depth` that says how many layers the tree may have. More layers means that the tree can divide up the feature space into finer classes, but this could come at the expense of overfitting."
      ]
    },
    {
      "cell_type": "markdown",
      "metadata": {
        "id": "LKYDuxfgIK81"
      },
      "source": [
        "## Part a) \n",
        "We first of all create an artificial dataset with 2000 samples, 10 features, and 4 classes."
      ]
    },
    {
      "cell_type": "code",
      "metadata": {
        "id": "H_-2c6FjIK81"
      },
      "source": [
        "from sklearn.datasets import make_classification\n",
        "X, y = make_classification(n_samples = 2000, n_features = 10, n_classes=4, n_informative = 3, random_state=10)"
      ],
      "execution_count": 96,
      "outputs": []
    },
    {
      "cell_type": "markdown",
      "metadata": {
        "id": "6seq_9GrIK82"
      },
      "source": [
        "Use the function `train_test_split` to separate out 0.2 of your dataset. This will be kept aside as our held-out test set."
      ]
    },
    {
      "cell_type": "code",
      "metadata": {
        "id": "zVQeVMoHIK82"
      },
      "source": [
        "# Write your answer here\n",
        "Xtr, Xtest, ytr, ytest = train_test_split(X, y, test_size=0.2, random_state=24)"
      ],
      "execution_count": 97,
      "outputs": []
    },
    {
      "cell_type": "markdown",
      "metadata": {
        "id": "HD8gHqiEIK82"
      },
      "source": [
        "### Part b) Setting up k-fold cross validation\n",
        "We import the function `KFold` from `sklearn.model_selection`, and instantiate it with 10 folds."
      ]
    },
    {
      "cell_type": "code",
      "metadata": {
        "id": "xIbgU2vmIK82"
      },
      "source": [
        "from sklearn.model_selection import KFold\n",
        "kf = KFold(n_splits=10, random_state=63, shuffle=True)"
      ],
      "execution_count": 98,
      "outputs": []
    },
    {
      "cell_type": "markdown",
      "metadata": {
        "id": "tY8d_sIzIK82"
      },
      "source": [
        "### Part c) Running cross-validation for different parameter settings\n",
        "We import the decision tree classifier and run it over depths from 1 to `max_d`. For each depth we run cross-validation over the training set."
      ]
    },
    {
      "cell_type": "code",
      "metadata": {
        "id": "KfUuGGtAIK82"
      },
      "source": [
        "from sklearn.tree import DecisionTreeClassifier\n",
        "max_d = 20\n",
        "#Set up variables to store training and validation accuracies. \n",
        "train_accuracies = [[] for _ in range(max_d)]\n",
        "val_accuracies = [[] for _ in range(max_d)]\n",
        "\n",
        "# Loop over depths\n",
        "for d in range(max_d):\n",
        "    #Instantiate the DecisionTreeClassifier here. Set the parameter max_depth to d+1\n",
        "    #We add 1 because d ranges from 0 to max_d-1, but we want depths from 1 to max_d\n",
        "    clf = DecisionTreeClassifier(max_depth=d+1)\n",
        "    \n",
        "    #Loop over cross-validation splits. Note that we perform cross validation on our training data Xtr.\n",
        "    #We keep our testing data Xtest aside\n",
        "    for train_index, val_index in kf.split(Xtr):\n",
        "        Xtrain, Xval = Xtr[train_index], Xtr[val_index]\n",
        "        ytrain, yval = ytr[train_index], ytr[val_index]\n",
        "        \n",
        "        #Fit the classifier on Xtrain and Ytrain\n",
        "        clf.fit(Xtrain, ytrain)\n",
        "        \n",
        "        #Make predictions on Xtrain and assign to a variable pred_train\n",
        "        pred_train = clf.predict(Xtrain)\n",
        "        \n",
        "        #Make predictions on Xval and assign to a variable pred_val\n",
        "        pred_val = clf.predict(Xval)\n",
        "        \n",
        "        #Calculate the accuracy of the predictions on the training set and save in the variable train_accuracies\n",
        "        train_accuracies[d].append(accuracy_score(ytrain, pred_train))\n",
        "        \n",
        "        #Do the same for the predictions on the validation set\n",
        "        val_accuracies[d].append(accuracy_score(yval, pred_val))\n",
        "\n",
        "#Calculate the mean and standard deviation for each depth across splits \n",
        "train_accuracy_mean = np.mean(train_accuracies, axis=1)\n",
        "train_accuracy_stdev = np.std(train_accuracies, axis=1)\n",
        "val_accuracy_mean = np.mean(val_accuracies, axis=1)\n",
        "val_accuracy_stdev = np.std(val_accuracies, axis=1)\n",
        "\n",
        "# The arrays of means and standard deviation should have shape (max_d, ). The following will generate an error if not.\n",
        "assert(np.shape(train_accuracy_mean)==(max_d,))\n",
        "assert(np.shape(train_accuracy_stdev)==(max_d,))\n",
        "assert(np.shape(val_accuracy_mean)==(max_d,))\n",
        "assert(np.shape(val_accuracy_stdev)==(max_d,))"
      ],
      "execution_count": 99,
      "outputs": []
    },
    {
      "cell_type": "markdown",
      "metadata": {
        "id": "jv5IakyrIK83"
      },
      "source": [
        "### Plotting results\n",
        "\n",
        "Plot the mean accuracy attained on the training set and on the validation set at each depth. Your figure should look something like the following:\n",
        "\n",
        "![image-2.png](attachment:image-2.png)\n",
        "\n",
        "What do you notice about these results? Which value of max_depth would you use for your held-out test set?"
      ]
    },
    {
      "cell_type": "code",
      "metadata": {
        "colab": {
          "base_uri": "https://localhost:8080/",
          "height": 296
        },
        "id": "050EqUN7IK83",
        "outputId": "fb18082a-cd41-4507-9364-aa6121b2aa99"
      },
      "source": [
        "# Write code to plot your results here\n",
        "fig2=plt.figure()\n",
        "x = list(range(1,max_d+1))\n",
        "plt.plot(x,train_accuracy_mean, label = 'Training Accuracy')\n",
        "plt.plot(x,val_accuracy_mean, label = 'Validation Accuracy')\n",
        "plt.xlabel('Tree depth')\n",
        "plt.xticks(x)\n",
        "plt.legend()"
      ],
      "execution_count": 102,
      "outputs": [
        {
          "output_type": "execute_result",
          "data": {
            "text/plain": [
              "<matplotlib.legend.Legend at 0x7f7c82d79e48>"
            ]
          },
          "metadata": {
            "tags": []
          },
          "execution_count": 102
        },
        {
          "output_type": "display_data",
          "data": {
            "image/png": "[encoded data removed]",
            "text/plain": [
              "<Figure size 432x288 with 1 Axes>"
            ]
          },
          "metadata": {
            "tags": [],
            "needs_background": "light"
          }
        }
      ]
    },
    {
      "cell_type": "markdown",
      "metadata": {
        "id": "qYjNqYz_IK83"
      },
      "source": [
        "### Computing accuracy on the test set\n",
        "Based on your plotted results, decide on the best value of `max_depth` to use in your decision tree classifier. Instantiate a new classifier with your chosen value. Fit the model on the training data. Make a prediction on the held-out test data, and calculate the accuracy on the test data. Is the accuracy what you expected? If not, why not?\n"
      ]
    },
    {
      "cell_type": "code",
      "metadata": {
        "colab": {
          "base_uri": "https://localhost:8080/"
        },
        "id": "YyGeCcgGIK83",
        "outputId": "ea04599e-e859-41b6-be85-b676c4184064"
      },
      "source": [
        "#Instantiate a new classifier\n",
        "clf = DecisionTreeClassifier(max_depth=5)\n",
        "\n",
        "#Fit the classifier on the training data\n",
        "clf.fit(Xtr, ytr)\n",
        "\n",
        "#Make a prediction on the test data\n",
        "pred_test = clf.predict(Xtest)\n",
        "\n",
        "#Calculate the accuracy on the test data\n",
        "accuracy_score(ytest, pred_test)\n"
      ],
      "execution_count": 101,
      "outputs": [
        {
          "output_type": "execute_result",
          "data": {
            "text/plain": [
              "0.78"
            ]
          },
          "metadata": {
            "tags": []
          },
          "execution_count": 101
        }
      ]
    },
    {
      "cell_type": "code",
      "metadata": {
        "id": "s-0OhZPRIK84"
      },
      "source": [
        ""
      ],
      "execution_count": 101,
      "outputs": []
    }
  ]
}